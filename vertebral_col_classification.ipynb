{
 "cells": [
  {
   "cell_type": "markdown",
   "id": "49376fbb-41bd-42f4-9fd0-ddcff84df474",
   "metadata": {},
   "source": [
    "Classification of Vertebral Column Data"
   ]
  },
  {
   "cell_type": "code",
   "execution_count": 1,
   "id": "4594dba2-ea3c-4e60-91bb-474e002bca83",
   "metadata": {},
   "outputs": [],
   "source": [
    "# Import libraries\n",
    "import numpy as np\n",
    "import scipy.stats as st\n",
    "import matplotlib.pyplot as plt\n",
    "import pandas as pd\n",
    "import seaborn as sns\n",
    "sns.set_style(\"whitegrid\", {'axes.grid' : False})\n",
    "import sklearn as sk\n",
    "from sklearn.model_selection import train_test_split\n",
    "from sklearn.neighbors import KNeighborsClassifier\n",
    "from sklearn.cluster import KMeans\n",
    "from sklearn.decomposition import PCA\n",
    "from sklearn.preprocessing import StandardScaler\n",
    "from sklearn import metrics"
   ]
  },
  {
   "cell_type": "code",
   "execution_count": 3,
   "id": "a017d30a-47ec-45f4-a8f9-a73fc71d7313",
   "metadata": {},
   "outputs": [],
   "source": [
    "# Read in the data\n",
    "\n",
    "df = pd.read_csv('vertebral_column_data.txt', sep=\" \", header=None)\n",
    "\n",
    "\n",
    "# Rename columns\n",
    "df = df.rename(columns={0: 'pelvic_incidence', 1: 'pelvic_tilt', 2: 'lumbar_lordosis', \n",
    "                        3: 'sacral_slope', 4: 'pelvic_radius', 5: 'spondylolisthesis',\n",
    "                        6: 'category'})\n",
    "\n",
    "# Change category column to 0 and 1\n",
    "df = df.replace({'category': {'NO': 0, 'AB': 1}})"
   ]
  },
  {
   "cell_type": "code",
   "execution_count": 4,
   "id": "a793af7b-945e-4ec1-bd2a-557597f7cdd3",
   "metadata": {},
   "outputs": [
    {
     "data": {
      "text/html": [
       "<div>\n",
       "<style scoped>\n",
       "    .dataframe tbody tr th:only-of-type {\n",
       "        vertical-align: middle;\n",
       "    }\n",
       "\n",
       "    .dataframe tbody tr th {\n",
       "        vertical-align: top;\n",
       "    }\n",
       "\n",
       "    .dataframe thead th {\n",
       "        text-align: right;\n",
       "    }\n",
       "</style>\n",
       "<table border=\"1\" class=\"dataframe\">\n",
       "  <thead>\n",
       "    <tr style=\"text-align: right;\">\n",
       "      <th></th>\n",
       "      <th>pelvic_incidence</th>\n",
       "      <th>pelvic_tilt</th>\n",
       "      <th>lumbar_lordosis</th>\n",
       "      <th>sacral_slope</th>\n",
       "      <th>pelvic_radius</th>\n",
       "      <th>spondylolisthesis</th>\n",
       "      <th>category</th>\n",
       "    </tr>\n",
       "  </thead>\n",
       "  <tbody>\n",
       "    <tr>\n",
       "      <th>0</th>\n",
       "      <td>63.03</td>\n",
       "      <td>22.55</td>\n",
       "      <td>39.61</td>\n",
       "      <td>40.48</td>\n",
       "      <td>98.67</td>\n",
       "      <td>-0.25</td>\n",
       "      <td>1</td>\n",
       "    </tr>\n",
       "    <tr>\n",
       "      <th>1</th>\n",
       "      <td>39.06</td>\n",
       "      <td>10.06</td>\n",
       "      <td>25.02</td>\n",
       "      <td>29.00</td>\n",
       "      <td>114.41</td>\n",
       "      <td>4.56</td>\n",
       "      <td>1</td>\n",
       "    </tr>\n",
       "    <tr>\n",
       "      <th>2</th>\n",
       "      <td>68.83</td>\n",
       "      <td>22.22</td>\n",
       "      <td>50.09</td>\n",
       "      <td>46.61</td>\n",
       "      <td>105.99</td>\n",
       "      <td>-3.53</td>\n",
       "      <td>1</td>\n",
       "    </tr>\n",
       "    <tr>\n",
       "      <th>3</th>\n",
       "      <td>69.30</td>\n",
       "      <td>24.65</td>\n",
       "      <td>44.31</td>\n",
       "      <td>44.64</td>\n",
       "      <td>101.87</td>\n",
       "      <td>11.21</td>\n",
       "      <td>1</td>\n",
       "    </tr>\n",
       "    <tr>\n",
       "      <th>4</th>\n",
       "      <td>49.71</td>\n",
       "      <td>9.65</td>\n",
       "      <td>28.32</td>\n",
       "      <td>40.06</td>\n",
       "      <td>108.17</td>\n",
       "      <td>7.92</td>\n",
       "      <td>1</td>\n",
       "    </tr>\n",
       "  </tbody>\n",
       "</table>\n",
       "</div>"
      ],
      "text/plain": [
       "   pelvic_incidence  pelvic_tilt  lumbar_lordosis  sacral_slope  \\\n",
       "0             63.03        22.55            39.61         40.48   \n",
       "1             39.06        10.06            25.02         29.00   \n",
       "2             68.83        22.22            50.09         46.61   \n",
       "3             69.30        24.65            44.31         44.64   \n",
       "4             49.71         9.65            28.32         40.06   \n",
       "\n",
       "   pelvic_radius  spondylolisthesis  category  \n",
       "0          98.67              -0.25         1  \n",
       "1         114.41               4.56         1  \n",
       "2         105.99              -3.53         1  \n",
       "3         101.87              11.21         1  \n",
       "4         108.17               7.92         1  "
      ]
     },
     "execution_count": 4,
     "metadata": {},
     "output_type": "execute_result"
    }
   ],
   "source": [
    "df.head()"
   ]
  },
  {
   "cell_type": "code",
   "execution_count": 5,
   "id": "40bcd1c9-f06a-4d31-a762-adb0b0e10909",
   "metadata": {},
   "outputs": [],
   "source": [
    "# Unsupervised classification: K-Means Clustering"
   ]
  },
  {
   "cell_type": "code",
   "execution_count": 6,
   "id": "98bb10e3-0b16-4a13-9811-e0c89a431724",
   "metadata": {},
   "outputs": [],
   "source": [
    "# Get all the features columns except the category column\n",
    "df_2 = df[[\"pelvic_incidence\", \"pelvic_tilt\", \"lumbar_lordosis\", \n",
    "           \"sacral_slope\", \"pelvic_radius\", \"spondylolisthesis\"]]\n",
    "\n",
    "# define standard scaler\n",
    "scaler = StandardScaler()\n",
    "  \n",
    "# transform data\n",
    "df_2 = scaler.fit_transform(df_2)\n",
    "\n",
    "# Make sure data is a pandas dataframe\n",
    "df_2 = pd.DataFrame(df_2)"
   ]
  },
  {
   "cell_type": "code",
   "execution_count": 7,
   "id": "f6ae82ed-9973-4cde-aa2d-e172a785a33a",
   "metadata": {},
   "outputs": [
    {
     "data": {
      "text/html": [
       "<div>\n",
       "<style scoped>\n",
       "    .dataframe tbody tr th:only-of-type {\n",
       "        vertical-align: middle;\n",
       "    }\n",
       "\n",
       "    .dataframe tbody tr th {\n",
       "        vertical-align: top;\n",
       "    }\n",
       "\n",
       "    .dataframe thead th {\n",
       "        text-align: right;\n",
       "    }\n",
       "</style>\n",
       "<table border=\"1\" class=\"dataframe\">\n",
       "  <thead>\n",
       "    <tr style=\"text-align: right;\">\n",
       "      <th></th>\n",
       "      <th>0</th>\n",
       "      <th>1</th>\n",
       "      <th>2</th>\n",
       "      <th>3</th>\n",
       "      <th>4</th>\n",
       "      <th>5</th>\n",
       "    </tr>\n",
       "  </thead>\n",
       "  <tbody>\n",
       "    <tr>\n",
       "      <th>0</th>\n",
       "      <td>0.147227</td>\n",
       "      <td>0.501111</td>\n",
       "      <td>-0.665128</td>\n",
       "      <td>-0.184602</td>\n",
       "      <td>-1.447831</td>\n",
       "      <td>-0.707946</td>\n",
       "    </tr>\n",
       "    <tr>\n",
       "      <th>1</th>\n",
       "      <td>-1.245707</td>\n",
       "      <td>-0.748891</td>\n",
       "      <td>-1.452763</td>\n",
       "      <td>-1.041250</td>\n",
       "      <td>-0.264028</td>\n",
       "      <td>-0.579673</td>\n",
       "    </tr>\n",
       "    <tr>\n",
       "      <th>2</th>\n",
       "      <td>0.484273</td>\n",
       "      <td>0.468085</td>\n",
       "      <td>-0.099370</td>\n",
       "      <td>0.272823</td>\n",
       "      <td>-0.897295</td>\n",
       "      <td>-0.795417</td>\n",
       "    </tr>\n",
       "    <tr>\n",
       "      <th>3</th>\n",
       "      <td>0.511586</td>\n",
       "      <td>0.711280</td>\n",
       "      <td>-0.411401</td>\n",
       "      <td>0.125820</td>\n",
       "      <td>-1.207159</td>\n",
       "      <td>-0.402332</td>\n",
       "    </tr>\n",
       "    <tr>\n",
       "      <th>4</th>\n",
       "      <td>-0.626819</td>\n",
       "      <td>-0.789923</td>\n",
       "      <td>-1.274614</td>\n",
       "      <td>-0.215943</td>\n",
       "      <td>-0.733337</td>\n",
       "      <td>-0.490069</td>\n",
       "    </tr>\n",
       "  </tbody>\n",
       "</table>\n",
       "</div>"
      ],
      "text/plain": [
       "          0         1         2         3         4         5\n",
       "0  0.147227  0.501111 -0.665128 -0.184602 -1.447831 -0.707946\n",
       "1 -1.245707 -0.748891 -1.452763 -1.041250 -0.264028 -0.579673\n",
       "2  0.484273  0.468085 -0.099370  0.272823 -0.897295 -0.795417\n",
       "3  0.511586  0.711280 -0.411401  0.125820 -1.207159 -0.402332\n",
       "4 -0.626819 -0.789923 -1.274614 -0.215943 -0.733337 -0.490069"
      ]
     },
     "execution_count": 7,
     "metadata": {},
     "output_type": "execute_result"
    }
   ],
   "source": [
    "df_2.head()"
   ]
  },
  {
   "cell_type": "code",
   "execution_count": 8,
   "id": "e727e44f-f60a-4791-9f4b-6dd9e3b6aae2",
   "metadata": {},
   "outputs": [
    {
     "name": "stdout",
     "output_type": "stream",
     "text": [
      "                  0             1             2             3             4  \\\n",
      "count  3.100000e+02  3.100000e+02  3.100000e+02  3.100000e+02  3.100000e+02   \n",
      "mean   9.060852e-16  3.753270e-16 -5.264606e-17  1.461197e-16  1.191341e-15   \n",
      "std    1.001617e+00  1.001617e+00  1.001617e+00  1.001617e+00  1.001617e+00   \n",
      "min   -1.995927e+00 -2.411223e+00 -2.047673e+00 -2.207573e+00 -3.598080e+00   \n",
      "25%   -8.172797e-01 -6.880918e-01 -8.060277e-01 -7.168355e-01 -5.423042e-01   \n",
      "50%   -1.049776e-01 -1.183852e-01 -1.277118e-01 -4.095722e-02  2.590615e-02   \n",
      "75%    7.196252e-01  4.580768e-01  5.975707e-01  7.267047e-01  5.676050e-01   \n",
      "max    4.029077e+00  3.191268e+00  3.984562e+00  5.855955e+00  3.395683e+00   \n",
      "\n",
      "                  5  \n",
      "count  3.100000e+02  \n",
      "mean   6.912034e-17  \n",
      "std    1.001617e+00  \n",
      "min   -9.962261e-01  \n",
      "25%   -6.586104e-01  \n",
      "50%   -3.875311e-01  \n",
      "75%    3.997055e-01  \n",
      "max    1.046031e+01  \n"
     ]
    }
   ],
   "source": [
    "# Checking data is standardised. Mean = 0 and SD = 1. \n",
    "print(df_2.describe())"
   ]
  },
  {
   "cell_type": "code",
   "execution_count": 9,
   "id": "6d5fb5c1-d00b-4c52-bada-84b551fe9001",
   "metadata": {},
   "outputs": [
    {
     "data": {
      "text/plain": [
       "array([[ 0.14722652,  0.50111133, -0.66512805, -0.18460234, -1.44783071,\n",
       "        -0.70794606],\n",
       "       [-1.24570706, -0.74889057, -1.45276272, -1.04124965, -0.26402779,\n",
       "        -0.57967342],\n",
       "       [ 0.48427345,  0.46808485, -0.0993699 ,  0.27282344, -0.89729467,\n",
       "        -0.79541679],\n",
       "       [ 0.51158587,  0.71127978, -0.41140063,  0.12582037, -1.20715922,\n",
       "        -0.40233184],\n",
       "       [-0.62681917, -0.78992346, -1.27461369, -0.2159431 , -0.73333721,\n",
       "        -0.49006925]])"
      ]
     },
     "execution_count": 9,
     "metadata": {},
     "output_type": "execute_result"
    }
   ],
   "source": [
    "# Putting dataframe into numpy array\n",
    "array = df_2.values\n",
    "xMat = np.array(array)\n",
    "xDim = xMat.shape[0]\n",
    "xMat[0:5,:]"
   ]
  },
  {
   "cell_type": "code",
   "execution_count": 10,
   "id": "ce6e3078-71c0-4cef-a7f8-0596acf6ce31",
   "metadata": {},
   "outputs": [],
   "source": [
    "# Creating elbow plot by calculating sum-of-squares for each value of K\n",
    "kMin = 1\n",
    "kMax = 8\n",
    "repsPerK = 10\n",
    "kValues = np.zeros( kMax - kMin + 1)\n",
    "sumOfSquares = np.zeros( kMax - kMin + 1)\n",
    "for k in range(kMin, kMax+1):\n",
    "    kValues[k - kMin] = k\n",
    "    kmeansResult = KMeans( k, n_init=repsPerK ).fit( xMat )\n",
    "    sumOfSquares[k - kMin] = kmeansResult.inertia_"
   ]
  },
  {
   "cell_type": "code",
   "execution_count": 11,
   "id": "634e4e79-9ae6-4d55-8ffb-826911a47763",
   "metadata": {},
   "outputs": [
    {
     "data": {
      "image/png": "[encoded data removed]",
      "text/plain": [
       "<Figure size 720x432 with 1 Axes>"
      ]
     },
     "metadata": {},
     "output_type": "display_data"
    }
   ],
   "source": [
    "# Plotting elbow plot for K-Means Clustering\n",
    "elbowFig = plt.figure(figsize=[10,6])\n",
    "plt.plot( kValues, sumOfSquares )\n",
    "plt.scatter( x=kValues, y=sumOfSquares )\n",
    "plt.xlabel('k: number of clusters', fontsize=14)\n",
    "plt.ylabel('Sum of squares', fontsize=14)\n",
    "plt.show()"
   ]
  },
  {
   "cell_type": "code",
   "execution_count": 12,
   "id": "48a3e7a9-6e39-4c34-8bf7-263af6b62a59",
   "metadata": {},
   "outputs": [],
   "source": [
    "# K-Means Clustering with K = 2\n",
    "clustering_kmeans = KMeans(n_clusters=2)\n",
    "\n",
    "# Saving each datapoints cluster in new column\n",
    "df_2['clusters'] = clustering_kmeans.fit_predict(df_2)"
   ]
  },
  {
   "cell_type": "code",
   "execution_count": 13,
   "id": "357cc482-3baf-4e3d-ae9e-440bc0597b07",
   "metadata": {},
   "outputs": [
    {
     "data": {
      "image/png": "[encoded data removed]",
      "text/plain": [
       "<Figure size 432x288 with 1 Axes>"
      ]
     },
     "metadata": {},
     "output_type": "display_data"
    }
   ],
   "source": [
    "# Using PCA to reduce dimensions of data to allow for visualisation\n",
    "pca_num_components = 2\n",
    "\n",
    "reduced_data = PCA(n_components=pca_num_components).fit_transform(df_2)\n",
    "results = pd.DataFrame(reduced_data,columns=['pca1','pca2'])\n",
    "\n",
    "sns.scatterplot(x=\"pca1\", y=\"pca2\", hue=df_2['clusters'], data=results)\n",
    "plt.show()"
   ]
  },
  {
   "cell_type": "code",
   "execution_count": 14,
   "id": "2710fea8-957a-483f-b721-cc31fdb28adf",
   "metadata": {},
   "outputs": [],
   "source": [
    "# K-Means Clustering with K = 3\n",
    "\n",
    "clustering_kmeans = KMeans(n_clusters=3)\n",
    "df_2['clusters_n3'] = clustering_kmeans.fit_predict(df_2)"
   ]
  },
  {
   "cell_type": "code",
   "execution_count": 15,
   "id": "bf661d29-86ea-43d5-9359-5a62b3bdafc4",
   "metadata": {},
   "outputs": [
    {
     "data": {
      "image/png": "[encoded data removed]",
      "text/plain": [
       "<Figure size 432x288 with 1 Axes>"
      ]
     },
     "metadata": {},
     "output_type": "display_data"
    }
   ],
   "source": [
    "# Using PCA to reduce dimensions of data to allow for visualisation\n",
    "\n",
    "pca_num_components = 2\n",
    "\n",
    "reduced_data = PCA(n_components=pca_num_components).fit_transform(df_2)\n",
    "results = pd.DataFrame(reduced_data,columns=['pca1','pca2'])\n",
    "\n",
    "sns.scatterplot(x=\"pca1\", y=\"pca2\", hue=df_2['clusters_n3'], data=results)\n",
    "plt.show()"
   ]
  },
  {
   "cell_type": "code",
   "execution_count": 16,
   "id": "36cc926e-a6ff-459f-a89a-2e4c06a291c8",
   "metadata": {},
   "outputs": [],
   "source": [
    "# Supervised classification: K-Nearest Neighbours"
   ]
  },
  {
   "cell_type": "code",
   "execution_count": 17,
   "id": "35cf2393-56a2-4356-9857-9554aad60cf2",
   "metadata": {},
   "outputs": [],
   "source": [
    "df_3 = df_2[[0,1,2,3,4,5]]"
   ]
  },
  {
   "cell_type": "code",
   "execution_count": 18,
   "id": "33ca42f6-3432-44cd-a1fe-f5a3edfbf19b",
   "metadata": {},
   "outputs": [
    {
     "data": {
      "text/html": [
       "<div>\n",
       "<style scoped>\n",
       "    .dataframe tbody tr th:only-of-type {\n",
       "        vertical-align: middle;\n",
       "    }\n",
       "\n",
       "    .dataframe tbody tr th {\n",
       "        vertical-align: top;\n",
       "    }\n",
       "\n",
       "    .dataframe thead th {\n",
       "        text-align: right;\n",
       "    }\n",
       "</style>\n",
       "<table border=\"1\" class=\"dataframe\">\n",
       "  <thead>\n",
       "    <tr style=\"text-align: right;\">\n",
       "      <th></th>\n",
       "      <th>0</th>\n",
       "      <th>1</th>\n",
       "      <th>2</th>\n",
       "      <th>3</th>\n",
       "      <th>4</th>\n",
       "      <th>5</th>\n",
       "    </tr>\n",
       "  </thead>\n",
       "  <tbody>\n",
       "    <tr>\n",
       "      <th>0</th>\n",
       "      <td>0.147227</td>\n",
       "      <td>0.501111</td>\n",
       "      <td>-0.665128</td>\n",
       "      <td>-0.184602</td>\n",
       "      <td>-1.447831</td>\n",
       "      <td>-0.707946</td>\n",
       "    </tr>\n",
       "    <tr>\n",
       "      <th>1</th>\n",
       "      <td>-1.245707</td>\n",
       "      <td>-0.748891</td>\n",
       "      <td>-1.452763</td>\n",
       "      <td>-1.041250</td>\n",
       "      <td>-0.264028</td>\n",
       "      <td>-0.579673</td>\n",
       "    </tr>\n",
       "    <tr>\n",
       "      <th>2</th>\n",
       "      <td>0.484273</td>\n",
       "      <td>0.468085</td>\n",
       "      <td>-0.099370</td>\n",
       "      <td>0.272823</td>\n",
       "      <td>-0.897295</td>\n",
       "      <td>-0.795417</td>\n",
       "    </tr>\n",
       "    <tr>\n",
       "      <th>3</th>\n",
       "      <td>0.511586</td>\n",
       "      <td>0.711280</td>\n",
       "      <td>-0.411401</td>\n",
       "      <td>0.125820</td>\n",
       "      <td>-1.207159</td>\n",
       "      <td>-0.402332</td>\n",
       "    </tr>\n",
       "    <tr>\n",
       "      <th>4</th>\n",
       "      <td>-0.626819</td>\n",
       "      <td>-0.789923</td>\n",
       "      <td>-1.274614</td>\n",
       "      <td>-0.215943</td>\n",
       "      <td>-0.733337</td>\n",
       "      <td>-0.490069</td>\n",
       "    </tr>\n",
       "    <tr>\n",
       "      <th>...</th>\n",
       "      <td>...</td>\n",
       "      <td>...</td>\n",
       "      <td>...</td>\n",
       "      <td>...</td>\n",
       "      <td>...</td>\n",
       "      <td>...</td>\n",
       "    </tr>\n",
       "    <tr>\n",
       "      <th>305</th>\n",
       "      <td>-0.732001</td>\n",
       "      <td>-0.392605</td>\n",
       "      <td>-0.860012</td>\n",
       "      <td>-0.646505</td>\n",
       "      <td>-0.035390</td>\n",
       "      <td>-0.814618</td>\n",
       "    </tr>\n",
       "    <tr>\n",
       "      <th>306</th>\n",
       "      <td>-0.381007</td>\n",
       "      <td>0.317965</td>\n",
       "      <td>-1.226028</td>\n",
       "      <td>-0.726350</td>\n",
       "      <td>-0.267036</td>\n",
       "      <td>-0.712480</td>\n",
       "    </tr>\n",
       "    <tr>\n",
       "      <th>307</th>\n",
       "      <td>0.055410</td>\n",
       "      <td>0.515123</td>\n",
       "      <td>-0.310989</td>\n",
       "      <td>-0.313696</td>\n",
       "      <td>0.582835</td>\n",
       "      <td>-0.773549</td>\n",
       "    </tr>\n",
       "    <tr>\n",
       "      <th>308</th>\n",
       "      <td>-0.885997</td>\n",
       "      <td>-0.886000</td>\n",
       "      <td>-0.558778</td>\n",
       "      <td>-0.477116</td>\n",
       "      <td>0.047341</td>\n",
       "      <td>-0.695679</td>\n",
       "    </tr>\n",
       "    <tr>\n",
       "      <th>309</th>\n",
       "      <td>-1.549049</td>\n",
       "      <td>-1.248291</td>\n",
       "      <td>-0.825462</td>\n",
       "      <td>-1.058412</td>\n",
       "      <td>0.453474</td>\n",
       "      <td>-0.706613</td>\n",
       "    </tr>\n",
       "  </tbody>\n",
       "</table>\n",
       "<p>310 rows × 6 columns</p>\n",
       "</div>"
      ],
      "text/plain": [
       "            0         1         2         3         4         5\n",
       "0    0.147227  0.501111 -0.665128 -0.184602 -1.447831 -0.707946\n",
       "1   -1.245707 -0.748891 -1.452763 -1.041250 -0.264028 -0.579673\n",
       "2    0.484273  0.468085 -0.099370  0.272823 -0.897295 -0.795417\n",
       "3    0.511586  0.711280 -0.411401  0.125820 -1.207159 -0.402332\n",
       "4   -0.626819 -0.789923 -1.274614 -0.215943 -0.733337 -0.490069\n",
       "..        ...       ...       ...       ...       ...       ...\n",
       "305 -0.732001 -0.392605 -0.860012 -0.646505 -0.035390 -0.814618\n",
       "306 -0.381007  0.317965 -1.226028 -0.726350 -0.267036 -0.712480\n",
       "307  0.055410  0.515123 -0.310989 -0.313696  0.582835 -0.773549\n",
       "308 -0.885997 -0.886000 -0.558778 -0.477116  0.047341 -0.695679\n",
       "309 -1.549049 -1.248291 -0.825462 -1.058412  0.453474 -0.706613\n",
       "\n",
       "[310 rows x 6 columns]"
      ]
     },
     "metadata": {},
     "output_type": "display_data"
    }
   ],
   "source": [
    "display(df_3)"
   ]
  },
  {
   "cell_type": "code",
   "execution_count": 19,
   "id": "622fc876-c16a-42b3-8380-d73021657636",
   "metadata": {},
   "outputs": [],
   "source": [
    "from sklearn.model_selection import train_test_split\n",
    "\n",
    "X = df_3\n",
    "y = df[\"category\"]\n",
    "\n",
    "# Split dataset into 70% training set and 30% test set\n",
    "X_train, X_test, y_train, y_test = train_test_split(X, y, test_size=0.3) "
   ]
  },
  {
   "cell_type": "code",
   "execution_count": 20,
   "id": "a411ba9c-9818-46a7-95a6-a75a724ad779",
   "metadata": {},
   "outputs": [],
   "source": [
    "# For loop to find best value for K\n",
    "\n",
    "error = []\n",
    "\n",
    "for k in range(1, 40):\n",
    "    knn = KNeighborsClassifier(n_neighbors=k)\n",
    "    knn.fit(X_train, y_train)\n",
    "    y_pred = knn.predict(X_test)\n",
    "    error.append(np.mean(y_pred != y_test))"
   ]
  },
  {
   "cell_type": "code",
   "execution_count": 21,
   "id": "7afc9fc4-9c8f-43ee-8a80-8ca830a52b12",
   "metadata": {},
   "outputs": [
    {
     "data": {
      "text/plain": [
       "Text(0, 0.5, 'Error Rate')"
      ]
     },
     "execution_count": 21,
     "metadata": {},
     "output_type": "execute_result"
    },
    {
     "data": {
      "image/png": "[encoded data removed]",
      "text/plain": [
       "<Figure size 720x432 with 1 Axes>"
      ]
     },
     "metadata": {},
     "output_type": "display_data"
    }
   ],
   "source": [
    "# Plotting the error rates for different values of K\n",
    "\n",
    "plt.figure(figsize=(10,6))\n",
    "plt.plot(range(1,40),error,color='blue', linestyle='dashed', marker='o',\n",
    "         markerfacecolor='red', markersize=10)\n",
    "plt.xlabel('K')\n",
    "plt.ylabel('Error Rate')"
   ]
  },
  {
   "cell_type": "code",
   "execution_count": 22,
   "id": "0d4004d6-b7c0-4540-b509-b83020af04e5",
   "metadata": {},
   "outputs": [],
   "source": [
    "#Create KNN Classifier with K = 3\n",
    "knn = KNeighborsClassifier(n_neighbors=13)\n",
    "\n",
    "#Train the model using the training sets\n",
    "knn.fit(X_train, y_train)\n",
    "\n",
    "#Predict the response for test dataset\n",
    "y_pred = knn.predict(X_test)"
   ]
  },
  {
   "cell_type": "code",
   "execution_count": 23,
   "id": "d8260f27-d391-49d5-9e47-c047bfa11502",
   "metadata": {},
   "outputs": [
    {
     "name": "stdout",
     "output_type": "stream",
     "text": [
      "Accuracy: 0.7741935483870968\n"
     ]
    }
   ],
   "source": [
    "# Model Accuracy, how often is the classifier correct?\n",
    "print(\"Accuracy:\",metrics.accuracy_score(y_test, y_pred))"
   ]
  }
 ],
 "metadata": {
  "kernelspec": {
   "display_name": "Python 3",
   "language": "python",
   "name": "python3"
  },
  "language_info": {
   "codemirror_mode": {
    "name": "ipython",
    "version": 3
   },
   "file_extension": ".py",
   "mimetype": "text/x-python",
   "name": "python",
   "nbconvert_exporter": "python",
   "pygments_lexer": "ipython3",
   "version": "3.8.8"
  }
 },
 "nbformat": 4,
 "nbformat_minor": 5
}
