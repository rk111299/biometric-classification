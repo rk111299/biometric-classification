{
 "cells": [
  {
   "cell_type": "markdown",
   "id": "49376fbb-41bd-42f4-9fd0-ddcff84df474",
   "metadata": {},
   "source": [
    "Classification of Vertebral Column Data"
   ]
  },
  {
   "cell_type": "code",
   "execution_count": null,
   "id": "4594dba2-ea3c-4e60-91bb-474e002bca83",
   "metadata": {},
   "outputs": [],
   "source": [
    "# Import libraries\n",
    "import numpy as np\n",
    "import scipy.stats as st\n",
    "import matplotlib.pyplot as plt\n",
    "import pandas as pd\n",
    "import sklearn as sk\n",
    "from sklearn.model_selection import train_test_split\n",
    "from sklearn.neighbors import KNeighborsClassifier\n",
    "from sklearn.cluster import KMeans\n",
    "from sklearn.decomposition import PCA\n",
    "from sklearn.preprocessing import StandardScaler\n",
    "from sklearn import metrics"
   ]
  },
  {
   "cell_type": "code",
   "execution_count": null,
   "id": "a017d30a-47ec-45f4-a8f9-a73fc71d7313",
   "metadata": {},
   "outputs": [],
   "source": [
    "# Read in the data\n",
    "\n",
    "df = pd.read_csv('vertebral_column_data.txt', sep=\" \", header=None)\n",
    "\n",
    "\n",
    "# Rename columns\n",
    "df = df.rename(columns={0: 'pelvic_incidence', 1: 'pelvic_tilt', 2: 'lumbar_lordosis', \n",
    "                        3: 'sacral_slope', 4: 'pelvic_radius', 5: 'spondylolisthesis',\n",
    "                        6: 'category'})\n",
    "\n",
    "# Change category column to 0 and 1\n",
    "df = df.replace({'category': {'NO': 0, 'AB': 1}})"
   ]
  },
  {
   "cell_type": "code",
   "execution_count": null,
   "id": "a793af7b-945e-4ec1-bd2a-557597f7cdd3",
   "metadata": {},
   "outputs": [],
   "source": [
    "df.head()"
   ]
  },
  {
   "cell_type": "code",
   "execution_count": null,
   "id": "40bcd1c9-f06a-4d31-a762-adb0b0e10909",
   "metadata": {},
   "outputs": [],
   "source": [
    "# Unsupervised classification: K-Means Clustering"
   ]
  },
  {
   "cell_type": "code",
   "execution_count": null,
   "id": "98bb10e3-0b16-4a13-9811-e0c89a431724",
   "metadata": {},
   "outputs": [],
   "source": [
    "# Get all the features columns except the category column\n",
    "df_2 = df[[\"pelvic_incidence\", \"pelvic_tilt\", \"lumbar_lordosis\", \n",
    "           \"sacral_slope\", \"pelvic_radius\", \"spondylolisthesis\"]]\n",
    "\n",
    "# define standard scaler\n",
    "scaler = StandardScaler()\n",
    "  \n",
    "# transform data\n",
    "df_2 = scaler.fit_transform(df_2)\n",
    "\n",
    "# Make sure data is a pandas dataframe\n",
    "df_2 = pd.DataFrame(df_2)"
   ]
  },
  {
   "cell_type": "code",
   "execution_count": null,
   "id": "f6ae82ed-9973-4cde-aa2d-e172a785a33a",
   "metadata": {},
   "outputs": [],
   "source": [
    "df_2.head()"
   ]
  },
  {
   "cell_type": "code",
   "execution_count": null,
   "id": "e727e44f-f60a-4791-9f4b-6dd9e3b6aae2",
   "metadata": {},
   "outputs": [],
   "source": [
    "# Checking data is standardised. Mean = 0 and SD = 1. \n",
    "print(df_2.describe())"
   ]
  },
  {
   "cell_type": "code",
   "execution_count": null,
   "id": "6d5fb5c1-d00b-4c52-bada-84b551fe9001",
   "metadata": {},
   "outputs": [],
   "source": [
    "# Putting dataframe into numpy array\n",
    "array = df_2.values\n",
    "xMat = np.array(array)\n",
    "xDim = xMat.shape[0]\n",
    "xMat[0:5,:]"
   ]
  },
  {
   "cell_type": "code",
   "execution_count": null,
   "id": "ce6e3078-71c0-4cef-a7f8-0596acf6ce31",
   "metadata": {},
   "outputs": [],
   "source": [
    "# Creating elbow plot by calculating sum-of-squares for each value of K\n",
    "kMin = 1\n",
    "kMax = 8\n",
    "repsPerK = 10\n",
    "kValues = np.zeros( kMax - kMin + 1)\n",
    "sumOfSquares = np.zeros( kMax - kMin + 1)\n",
    "for k in range(kMin, kMax+1):\n",
    "    kValues[k - kMin] = k\n",
    "    kmeansResult = KMeans( k, n_init=repsPerK ).fit( xMat )\n",
    "    sumOfSquares[k - kMin] = kmeansResult.inertia_"
   ]
  },
  {
   "cell_type": "code",
   "execution_count": null,
   "id": "634e4e79-9ae6-4d55-8ffb-826911a47763",
   "metadata": {},
   "outputs": [],
   "source": [
    "# Plotting elbow plot for K-Means Clustering\n",
    "elbowFig = plt.figure(figsize=[10,6])\n",
    "plt.plot( kValues, sumOfSquares )\n",
    "plt.scatter( x=kValues, y=sumOfSquares )\n",
    "plt.xlabel('k: number of clusters', fontsize=14)\n",
    "plt.ylabel('Sum of squares', fontsize=14)\n",
    "plt.show()"
   ]
  },
  {
   "cell_type": "code",
   "execution_count": null,
   "id": "48a3e7a9-6e39-4c34-8bf7-263af6b62a59",
   "metadata": {},
   "outputs": [],
   "source": [
    "# K-Means Clustering with K = 2\n",
    "clustering_kmeans = KMeans(n_clusters=2)\n",
    "\n",
    "# Saving each datapoints cluster in new column\n",
    "df_2['clusters'] = clustering_kmeans.fit_predict(df_2)"
   ]
  },
  {
   "cell_type": "code",
   "execution_count": null,
   "id": "357cc482-3baf-4e3d-ae9e-440bc0597b07",
   "metadata": {},
   "outputs": [],
   "source": [
    "# Using PCA to reduce dimensions of data to allow for visualisation\n",
    "pca_num_components = 2\n",
    "\n",
    "reduced_data = PCA(n_components=pca_num_components).fit_transform(df_2)\n",
    "results = pd.DataFrame(reduced_data,columns=['pca1','pca2'])\n",
    "\n",
    "sns.scatterplot(x=\"pca1\", y=\"pca2\", hue=df_2['clusters'], data=results)\n",
    "plt.show()"
   ]
  },
  {
   "cell_type": "code",
   "execution_count": null,
   "id": "2710fea8-957a-483f-b721-cc31fdb28adf",
   "metadata": {},
   "outputs": [],
   "source": [
    "# K-Means Clustering with K = 3\n",
    "\n",
    "clustering_kmeans = KMeans(n_clusters=3)\n",
    "df_2['clusters_n3'] = clustering_kmeans.fit_predict(df_2)"
   ]
  },
  {
   "cell_type": "code",
   "execution_count": null,
   "id": "bf661d29-86ea-43d5-9359-5a62b3bdafc4",
   "metadata": {},
   "outputs": [],
   "source": [
    "# Using PCA to reduce dimensions of data to allow for visualisation\n",
    "\n",
    "pca_num_components = 2\n",
    "\n",
    "reduced_data = PCA(n_components=pca_num_components).fit_transform(df_2)\n",
    "results = pd.DataFrame(reduced_data,columns=['pca1','pca2'])\n",
    "\n",
    "sns.scatterplot(x=\"pca1\", y=\"pca2\", hue=df_2['clusters_n3'], data=results)\n",
    "plt.show()"
   ]
  },
  {
   "cell_type": "code",
   "execution_count": null,
   "id": "36cc926e-a6ff-459f-a89a-2e4c06a291c8",
   "metadata": {},
   "outputs": [],
   "source": [
    "# Supervised classification: K-Nearest Neighbours"
   ]
  },
  {
   "cell_type": "code",
   "execution_count": null,
   "id": "35cf2393-56a2-4356-9857-9554aad60cf2",
   "metadata": {},
   "outputs": [],
   "source": [
    "df_3 = df_2[[0,1,2,3,4,5]]"
   ]
  },
  {
   "cell_type": "code",
   "execution_count": null,
   "id": "33ca42f6-3432-44cd-a1fe-f5a3edfbf19b",
   "metadata": {},
   "outputs": [],
   "source": [
    "display(df_3)"
   ]
  },
  {
   "cell_type": "code",
   "execution_count": null,
   "id": "622fc876-c16a-42b3-8380-d73021657636",
   "metadata": {},
   "outputs": [],
   "source": [
    "from sklearn.model_selection import train_test_split\n",
    "\n",
    "X = df_3\n",
    "y = df[\"category\"]\n",
    "\n",
    "# Split dataset into 70% training set and 30% test set\n",
    "X_train, X_test, y_train, y_test = train_test_split(X, y, test_size=0.3) "
   ]
  },
  {
   "cell_type": "code",
   "execution_count": null,
   "id": "a411ba9c-9818-46a7-95a6-a75a724ad779",
   "metadata": {},
   "outputs": [],
   "source": [
    "# For loop to find best value for K\n",
    "\n",
    "error = []\n",
    "\n",
    "for k in range(1, 40):\n",
    "    knn = KNeighborsClassifier(n_neighbors=k)\n",
    "    knn.fit(X_train, y_train)\n",
    "    y_pred = knn.predict(X_test)\n",
    "    error.append(np.mean(y_pred != y_test))"
   ]
  },
  {
   "cell_type": "code",
   "execution_count": null,
   "id": "7afc9fc4-9c8f-43ee-8a80-8ca830a52b12",
   "metadata": {},
   "outputs": [],
   "source": [
    "# Plotting the error rates for different values of K\n",
    "\n",
    "plt.figure(figsize=(10,6))\n",
    "plt.plot(range(1,40),error,color='blue', linestyle='dashed', marker='o',\n",
    "         markerfacecolor='red', markersize=10)\n",
    "plt.xlabel('K')\n",
    "plt.ylabel('Error Rate')"
   ]
  },
  {
   "cell_type": "code",
   "execution_count": null,
   "id": "0d4004d6-b7c0-4540-b509-b83020af04e5",
   "metadata": {},
   "outputs": [],
   "source": [
    "#Create KNN Classifier with K = 3\n",
    "knn = KNeighborsClassifier(n_neighbors=13)\n",
    "\n",
    "#Train the model using the training sets\n",
    "knn.fit(X_train, y_train)\n",
    "\n",
    "#Predict the response for test dataset\n",
    "y_pred = knn.predict(X_test)"
   ]
  },
  {
   "cell_type": "code",
   "execution_count": null,
   "id": "d8260f27-d391-49d5-9e47-c047bfa11502",
   "metadata": {},
   "outputs": [],
   "source": [
    "# Model Accuracy, how often is the classifier correct?\n",
    "print(\"Accuracy:\",metrics.accuracy_score(y_test, y_pred))"
   ]
  }
 ],
 "metadata": {
  "kernelspec": {
   "display_name": "Python 3",
   "language": "python",
   "name": "python3"
  },
  "language_info": {
   "codemirror_mode": {
    "name": "ipython",
    "version": 3
   },
   "file_extension": ".py",
   "mimetype": "text/x-python",
   "name": "python",
   "nbconvert_exporter": "python",
   "pygments_lexer": "ipython3",
   "version": "3.8.8"
  }
 },
 "nbformat": 4,
 "nbformat_minor": 5
}
